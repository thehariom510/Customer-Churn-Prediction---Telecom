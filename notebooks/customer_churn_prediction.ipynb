{
 "cells": [
  {
   "cell_type": "markdown",
   "id": "cd6920d2",
   "metadata": {},
   "source": [
    "# Customer Churn Prediction - Telecom\n",
    "\n",
    "**Note:** The dataset's target column appears to contain only one class. See `scripts/check_target.py`. Replace the dataset with a proper churn-labeled dataset to run models."
   ]
  },
  {
   "cell_type": "code",
   "execution_count": null,
   "id": "b5d73bcb",
   "metadata": {},
   "outputs": [],
   "source": [
    "import pandas as pd\n",
    "df = pd.read_csv('../data/Telecom_Customer_Churn.csv')\n",
    "df.head()"
   ]
  },
  {
   "cell_type": "code",
   "execution_count": null,
   "id": "88a7e3ec",
   "metadata": {},
   "outputs": [],
   "source": [
    "print('Value counts:')\n",
    "print(df['Churn Category'].value_counts(dropna=False))"
   ]
  }
 ],
 "metadata": {},
 "nbformat": 4,
 "nbformat_minor": 5
}
